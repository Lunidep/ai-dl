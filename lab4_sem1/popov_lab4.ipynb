{
  "cells": [
    {
      "cell_type": "markdown",
      "metadata": {
        "id": "BWzINA0xVUuT"
      },
      "source": [
        "# Датасет\n"
      ]
    },
    {
      "cell_type": "markdown",
      "metadata": {
        "id": "OrBAi-nvVYW1"
      },
      "source": [
        "Ссылка на датасет: https://www.kaggle.com/datasets/thedevastator/global-video-game-sales-and-reviews\n",
        "Датасет \"Video Games Sales.csv\" содержит информацию о продажах видеоигр. Он включает рейтинг, региональные продажи, названия, жанры, издателей, платформы, отзывы и год выпуска. Данные предоставляют обширный обзор индустрии видеоигр, подходят для анализа трендов и проведения исследований.\n",
        "\n",
        "В качестве задачи классификации я обучаю модель на предсказание года выпуска игры исходя из жанра и количества проданных единиц в разных регионах."
      ]
    },
    {
      "cell_type": "markdown",
      "metadata": {
        "id": "PzVe0f7fkXn1"
      },
      "source": [
        "## Реализация"
      ]
    },
    {
      "cell_type": "code",
      "execution_count": 30,
      "metadata": {
        "id": "iqCOSyWNQcoF"
      },
      "outputs": [],
      "source": [
        "import pandas as pd\n",
        "import numpy as np\n",
        "from matplotlib import pyplot as plt"
      ]
    },
    {
      "cell_type": "code",
      "execution_count": 47,
      "metadata": {
        "id": "dz1Jv2JPcElP"
      },
      "outputs": [],
      "source": [
        "from sklearn.linear_model import LogisticRegression\n",
        "from sklearn.tree import DecisionTreeClassifier\n",
        "from sklearn.ensemble import RandomForestClassifier\n",
        "from sklearn.ensemble import GradientBoostingClassifier"
      ]
    },
    {
      "cell_type": "markdown",
      "metadata": {},
      "source": [
        "Реализация логистической регрессии с использованием метода градиентного спуска."
      ]
    },
    {
      "cell_type": "code",
      "execution_count": 26,
      "metadata": {
        "id": "d5pbqGbCRufw"
      },
      "outputs": [],
      "source": [
        "class MyLogisticRegression():\n",
        "    def __init__(self, learning_rate=0.1, num_iterations=1000):\n",
        "        self.learning_rate = learning_rate\n",
        "        self.num_iterations = num_iterations\n",
        "        self.weights = None\n",
        "        self.bias = None\n",
        "\n",
        "    def softmax(self, z):\n",
        "        exp_z = np.exp(z - np.max(z, axis=1, keepdims=True))\n",
        "        return exp_z / np.sum(exp_z, axis=1, keepdims=True)\n",
        "\n",
        "    def fit(self, X, y):\n",
        "        num_classes = len(np.unique(y))\n",
        "        num_features = X.shape[1]\n",
        "\n",
        "        self.weights = np.zeros((num_features, num_classes))\n",
        "        self.bias = np.zeros((1, num_classes))\n",
        "\n",
        "        y_one_hot = np.eye(num_classes)[y]\n",
        "\n",
        "        for _ in range(self.num_iterations):\n",
        "            linear_combination = np.dot(X, self.weights) + self.bias\n",
        "\n",
        "            predictions = self.softmax(linear_combination)\n",
        "\n",
        "            gradient_weights = np.dot(X.T, (predictions - y_one_hot)) / len(y)\n",
        "            gradient_bias = np.sum(predictions - y_one_hot, axis=0, keepdims=True) / len(y)\n",
        "\n",
        "            self.weights -= self.learning_rate * gradient_weights\n",
        "            self.bias -= self.learning_rate * gradient_bias\n",
        "\n",
        "    def predict(self, X):\n",
        "        linear_combination = np.dot(X, self.weights) + self.bias\n",
        "        predictions = self.softmax(linear_combination)\n",
        "        return np.argmax(predictions, axis=1)"
      ]
    },
    {
      "cell_type": "markdown",
      "metadata": {},
      "source": [
        "Реализация дерева решений с возможностью задать максимальную глубину. "
      ]
    },
    {
      "cell_type": "code",
      "execution_count": 27,
      "metadata": {
        "id": "wyZlcUg_kbBn"
      },
      "outputs": [],
      "source": [
        "class MyDecisionTreeClassifier():\n",
        "    def __init__(self, max_depth=None):\n",
        "        self.max_depth = max_depth\n",
        "\n",
        "    def fit(self, X, y):\n",
        "        self.tree = self._build_tree(X, y, depth=0)\n",
        "\n",
        "    def _build_tree(self, X, y, depth):\n",
        "        unique_classes = list(set(y))\n",
        "\n",
        "        if len(unique_classes) == 1:\n",
        "            return {'class': unique_classes[0]}\n",
        "\n",
        "        if self.max_depth is not None and depth == self.max_depth:\n",
        "            most_common_class = max(set(y))\n",
        "            return {'class': most_common_class}\n",
        "\n",
        "        best_split = self._find_best_split(X, y)\n",
        "\n",
        "        if best_split is None:\n",
        "            print(type(y))\n",
        "            most_common_class = max(set(y))\n",
        "            return {'class': most_common_class}\n",
        "\n",
        "        left_child = self._build_tree(*best_split['left'], depth=depth + 1)\n",
        "        right_child = self._build_tree(*best_split['right'], depth=depth + 1)\n",
        "\n",
        "        return {'feature_idx': best_split['feature_idx'],\n",
        "                'threshold': best_split['threshold'],\n",
        "                'left': left_child,\n",
        "                'right': right_child}\n",
        "\n",
        "    def _find_best_split(self, X, y):\n",
        "        num_features = len(X[0])\n",
        "        m = len(y)\n",
        "        if m <= 1:\n",
        "            return None\n",
        "\n",
        "        num_classes = len(set(y))\n",
        "\n",
        "        best_gini = float('inf')\n",
        "        best_split = None\n",
        "\n",
        "        for feature_idx in range(num_features):\n",
        "            feature_values = sorted(set(X[i][feature_idx] for i in range(m)))\n",
        "\n",
        "            for threshold in feature_values:\n",
        "                left_indices = [i for i in range(m) if X[i][feature_idx] <= threshold]\n",
        "                right_indices = [i for i in range(m) if X[i][feature_idx] > threshold]\n",
        "\n",
        "                gini_left = self._compute_gini(y[left_indices])\n",
        "                gini_right = self._compute_gini(y[right_indices])\n",
        "\n",
        "                weighted_gini = (len(left_indices) / m) * gini_left + (len(right_indices) / m) * gini_right\n",
        "\n",
        "                if weighted_gini < best_gini:\n",
        "                    best_gini = weighted_gini\n",
        "                    best_split = {'feature_idx': feature_idx, 'threshold': threshold, 'left': (X[left_indices], y[left_indices]), 'right': (X[right_indices], y[right_indices])}\n",
        "\n",
        "        return best_split\n",
        "\n",
        "    def _compute_gini(self, y):\n",
        "        m = len(y)\n",
        "        if m == 0:\n",
        "            return 0\n",
        "\n",
        "        classes, counts = np.unique(y, return_counts=True)\n",
        "        probabilities = counts / m\n",
        "        gini = 1 - np.sum(probabilities ** 2)\n",
        "\n",
        "        return gini\n",
        "\n",
        "    def predict(self, X):\n",
        "        return np.array([self._predict_tree(x, self.tree) for x in X])\n",
        "\n",
        "    def _predict_tree(self, x, node):\n",
        "        if 'class' in node:\n",
        "            return node['class']\n",
        "\n",
        "        if x[node['feature_idx']] <= node['threshold']:\n",
        "            return self._predict_tree(x, node['left'])\n",
        "        else:\n",
        "            return self._predict_tree(x, node['right'])"
      ]
    },
    {
      "cell_type": "markdown",
      "metadata": {},
      "source": [
        "Класс, представляющий случайный лес, который использует несколько деревьев решений."
      ]
    },
    {
      "cell_type": "code",
      "execution_count": 28,
      "metadata": {
        "id": "BImn8DzZr3y3"
      },
      "outputs": [],
      "source": [
        "class MyRandomForestClassifier():\n",
        "    def __init__(self, n_trees=10, max_depth=None, sample_size=None):\n",
        "        self.n_trees = n_trees\n",
        "        self.max_depth = max_depth\n",
        "        self.sample_size = sample_size\n",
        "        self.trees = []\n",
        "\n",
        "    def fit(self, X, y):\n",
        "        for _ in range(self.n_trees):\n",
        "            tree = MyDecisionTreeClassifier(max_depth=self.max_depth)\n",
        "            if self.sample_size:\n",
        "                sample_indices = np.random.choice(len(X), size=self.sample_size, replace=True)\n",
        "                X_sample, y_sample = X[sample_indices], y[sample_indices]\n",
        "            else:\n",
        "                X_sample, y_sample = X, y\n",
        "            tree.fit(X_sample, y_sample)\n",
        "            self.trees.append(tree)\n",
        "\n",
        "    def predict(self, X):\n",
        "        predictions = np.array([tree.predict(X) for tree in self.trees])\n",
        "        return np.apply_along_axis(lambda x: np.bincount(x).argmax(), axis=0, arr=predictions)\n"
      ]
    },
    {
      "cell_type": "markdown",
      "metadata": {},
      "source": [
        "Реализация градиентного бустинга с возможностью задать количество деревьев, learning rate и максимальную глубину."
      ]
    },
    {
      "cell_type": "code",
      "execution_count": 29,
      "metadata": {
        "id": "6upGf4tCs84K"
      },
      "outputs": [],
      "source": [
        "class MyGradientBoostingClassifier():\n",
        "    def __init__(self, n_estimators=100, learning_rate=0.1, max_depth=3):\n",
        "        self.n_estimators = n_estimators\n",
        "        self.learning_rate = learning_rate\n",
        "        self.max_depth = max_depth\n",
        "        self.trees = []\n",
        "\n",
        "    def fit(self, X, y):\n",
        "        predictions = np.zeros_like(y, dtype=np.float64)\n",
        "\n",
        "        for i in range(self.n_estimators):\n",
        "            residuals = y - predictions\n",
        "\n",
        "            tree = MyDecisionTreeClassifier(max_depth=self.max_depth)\n",
        "            tree.fit(X, residuals)\n",
        "\n",
        "            tree_predictions = tree.predict(X)\n",
        "\n",
        "            predictions += (self.learning_rate * tree_predictions)\n",
        "\n",
        "            self.trees.append(tree)\n",
        "\n",
        "    def predict(self, X):\n",
        "        predictions = np.zeros(X.shape[0])\n",
        "        for tree in self.trees:\n",
        "            predictions += self.learning_rate * tree.predict(X)\n",
        "        return predictions"
      ]
    },
    {
      "cell_type": "markdown",
      "metadata": {
        "id": "oWiy773eFat7"
      },
      "source": [
        "## Данные"
      ]
    },
    {
      "cell_type": "code",
      "execution_count": 31,
      "metadata": {
        "colab": {
          "base_uri": "https://localhost:8080/",
          "height": 241
        },
        "id": "Gk1uVH1-QgYr",
        "outputId": "d4665b73-d195-473d-a943-c4d0b40eac27"
      },
      "outputs": [
        {
          "data": {
            "text/html": [
              "<div>\n",
              "<style scoped>\n",
              "    .dataframe tbody tr th:only-of-type {\n",
              "        vertical-align: middle;\n",
              "    }\n",
              "\n",
              "    .dataframe tbody tr th {\n",
              "        vertical-align: top;\n",
              "    }\n",
              "\n",
              "    .dataframe thead th {\n",
              "        text-align: right;\n",
              "    }\n",
              "</style>\n",
              "<table border=\"1\" class=\"dataframe\">\n",
              "  <thead>\n",
              "    <tr style=\"text-align: right;\">\n",
              "      <th></th>\n",
              "      <th>index</th>\n",
              "      <th>Rank</th>\n",
              "      <th>Game Title</th>\n",
              "      <th>Platform</th>\n",
              "      <th>Year</th>\n",
              "      <th>Genre</th>\n",
              "      <th>Publisher</th>\n",
              "      <th>North America</th>\n",
              "      <th>Europe</th>\n",
              "      <th>Japan</th>\n",
              "      <th>Rest of World</th>\n",
              "      <th>Global</th>\n",
              "      <th>Review</th>\n",
              "    </tr>\n",
              "  </thead>\n",
              "  <tbody>\n",
              "    <tr>\n",
              "      <th>0</th>\n",
              "      <td>0</td>\n",
              "      <td>1</td>\n",
              "      <td>Wii Sports</td>\n",
              "      <td>Wii</td>\n",
              "      <td>2006</td>\n",
              "      <td>Sports</td>\n",
              "      <td>Nintendo</td>\n",
              "      <td>40.43</td>\n",
              "      <td>28.39</td>\n",
              "      <td>3.77</td>\n",
              "      <td>8.54</td>\n",
              "      <td>81.12</td>\n",
              "      <td>76.28</td>\n",
              "    </tr>\n",
              "    <tr>\n",
              "      <th>1</th>\n",
              "      <td>1</td>\n",
              "      <td>2</td>\n",
              "      <td>Super Mario Bros.</td>\n",
              "      <td>NES</td>\n",
              "      <td>1985</td>\n",
              "      <td>Platform</td>\n",
              "      <td>Nintendo</td>\n",
              "      <td>29.08</td>\n",
              "      <td>3.58</td>\n",
              "      <td>6.81</td>\n",
              "      <td>0.77</td>\n",
              "      <td>40.24</td>\n",
              "      <td>91.00</td>\n",
              "    </tr>\n",
              "    <tr>\n",
              "      <th>2</th>\n",
              "      <td>2</td>\n",
              "      <td>3</td>\n",
              "      <td>Mario Kart Wii</td>\n",
              "      <td>Wii</td>\n",
              "      <td>2008</td>\n",
              "      <td>Racing</td>\n",
              "      <td>Nintendo</td>\n",
              "      <td>14.50</td>\n",
              "      <td>12.22</td>\n",
              "      <td>3.63</td>\n",
              "      <td>3.21</td>\n",
              "      <td>33.55</td>\n",
              "      <td>82.07</td>\n",
              "    </tr>\n",
              "    <tr>\n",
              "      <th>3</th>\n",
              "      <td>3</td>\n",
              "      <td>4</td>\n",
              "      <td>Wii Sports Resort</td>\n",
              "      <td>Wii</td>\n",
              "      <td>2009</td>\n",
              "      <td>Sports</td>\n",
              "      <td>Nintendo</td>\n",
              "      <td>14.82</td>\n",
              "      <td>10.51</td>\n",
              "      <td>3.18</td>\n",
              "      <td>3.01</td>\n",
              "      <td>31.52</td>\n",
              "      <td>82.65</td>\n",
              "    </tr>\n",
              "    <tr>\n",
              "      <th>4</th>\n",
              "      <td>4</td>\n",
              "      <td>5</td>\n",
              "      <td>Tetris</td>\n",
              "      <td>GB</td>\n",
              "      <td>1989</td>\n",
              "      <td>Puzzle</td>\n",
              "      <td>Nintendo</td>\n",
              "      <td>23.20</td>\n",
              "      <td>2.26</td>\n",
              "      <td>4.22</td>\n",
              "      <td>0.58</td>\n",
              "      <td>30.26</td>\n",
              "      <td>88.00</td>\n",
              "    </tr>\n",
              "  </tbody>\n",
              "</table>\n",
              "</div>"
            ],
            "text/plain": [
              "   index  Rank         Game Title Platform  Year     Genre Publisher  \\\n",
              "0      0     1         Wii Sports      Wii  2006    Sports  Nintendo   \n",
              "1      1     2  Super Mario Bros.      NES  1985  Platform  Nintendo   \n",
              "2      2     3     Mario Kart Wii      Wii  2008    Racing  Nintendo   \n",
              "3      3     4  Wii Sports Resort      Wii  2009    Sports  Nintendo   \n",
              "4      4     5             Tetris       GB  1989    Puzzle  Nintendo   \n",
              "\n",
              "   North America  Europe  Japan  Rest of World  Global  Review  \n",
              "0          40.43   28.39   3.77           8.54   81.12   76.28  \n",
              "1          29.08    3.58   6.81           0.77   40.24   91.00  \n",
              "2          14.50   12.22   3.63           3.21   33.55   82.07  \n",
              "3          14.82   10.51   3.18           3.01   31.52   82.65  \n",
              "4          23.20    2.26   4.22           0.58   30.26   88.00  "
            ]
          },
          "execution_count": 31,
          "metadata": {},
          "output_type": "execute_result"
        }
      ],
      "source": [
        "data = pd.read_csv('./VideoGamesSales.csv')\n",
        "numeric_cols = data.select_dtypes(include=['number']).columns\n",
        "data[numeric_cols] = data[numeric_cols].fillna(data[numeric_cols].mean())\n",
        "data[\"Year\"] = data[\"Year\"].astype(int)\n",
        "data.head()"
      ]
    },
    {
      "cell_type": "markdown",
      "metadata": {
        "id": "fdJzklQrasFd"
      },
      "source": [
        "### Разделим на категории и будем решать задачу классификации по жанрам"
      ]
    },
    {
      "cell_type": "code",
      "execution_count": 32,
      "metadata": {
        "id": "azljQnCuQpWZ"
      },
      "outputs": [],
      "source": [
        "num_cols = [\n",
        "    'Rank',              # Ранг видеоигры по глобальным продажам\n",
        "    'Europe',            # Количество проданных единиц в Европе (в миллионах)\n",
        "    'Japan',             # Количество проданных единиц в Японии (в миллионах)\n",
        "    'Rest of World',     # Предполагается, что есть столбец 'Rest of World', но не определен в предоставленных данных\n",
        "    'North America',     # Количество проданных единиц в Северной Америке (в миллионах)\n",
        "    'Review'             # Предполагается, что есть столбец 'Review', но не определен в предоставленных данных\n",
        "]\n",
        "\n",
        "cat_cols = [\n",
        "    'Genre'              # Жанр игры, например, экшн, приключения, гонки и т. д.\n",
        "]\n",
        "\n",
        "target_col = 'Year'      # Год выпуска игры\n",
        "\n",
        "cols = num_cols + cat_cols + [target_col]"
      ]
    },
    {
      "cell_type": "code",
      "execution_count": 33,
      "metadata": {
        "colab": {
          "base_uri": "https://localhost:8080/"
        },
        "id": "mQNao_W5RPCH",
        "outputId": "5683fcaf-140b-4f0f-cb1d-828287eaa08a"
      },
      "outputs": [
        {
          "data": {
            "text/html": [
              "<div>\n",
              "<style scoped>\n",
              "    .dataframe tbody tr th:only-of-type {\n",
              "        vertical-align: middle;\n",
              "    }\n",
              "\n",
              "    .dataframe tbody tr th {\n",
              "        vertical-align: top;\n",
              "    }\n",
              "\n",
              "    .dataframe thead th {\n",
              "        text-align: right;\n",
              "    }\n",
              "</style>\n",
              "<table border=\"1\" class=\"dataframe\">\n",
              "  <thead>\n",
              "    <tr style=\"text-align: right;\">\n",
              "      <th></th>\n",
              "      <th>Rank</th>\n",
              "      <th>Europe</th>\n",
              "      <th>Japan</th>\n",
              "      <th>Rest of World</th>\n",
              "      <th>North America</th>\n",
              "      <th>Review</th>\n",
              "      <th>Genre</th>\n",
              "      <th>Year</th>\n",
              "    </tr>\n",
              "  </thead>\n",
              "  <tbody>\n",
              "    <tr>\n",
              "      <th>0</th>\n",
              "      <td>1</td>\n",
              "      <td>28.39</td>\n",
              "      <td>3.77</td>\n",
              "      <td>8.54</td>\n",
              "      <td>40.43</td>\n",
              "      <td>76.28</td>\n",
              "      <td>Sports</td>\n",
              "      <td>2006</td>\n",
              "    </tr>\n",
              "    <tr>\n",
              "      <th>1</th>\n",
              "      <td>2</td>\n",
              "      <td>3.58</td>\n",
              "      <td>6.81</td>\n",
              "      <td>0.77</td>\n",
              "      <td>29.08</td>\n",
              "      <td>91.00</td>\n",
              "      <td>Platform</td>\n",
              "      <td>1985</td>\n",
              "    </tr>\n",
              "    <tr>\n",
              "      <th>2</th>\n",
              "      <td>3</td>\n",
              "      <td>12.22</td>\n",
              "      <td>3.63</td>\n",
              "      <td>3.21</td>\n",
              "      <td>14.50</td>\n",
              "      <td>82.07</td>\n",
              "      <td>Racing</td>\n",
              "      <td>2008</td>\n",
              "    </tr>\n",
              "    <tr>\n",
              "      <th>3</th>\n",
              "      <td>4</td>\n",
              "      <td>10.51</td>\n",
              "      <td>3.18</td>\n",
              "      <td>3.01</td>\n",
              "      <td>14.82</td>\n",
              "      <td>82.65</td>\n",
              "      <td>Sports</td>\n",
              "      <td>2009</td>\n",
              "    </tr>\n",
              "    <tr>\n",
              "      <th>4</th>\n",
              "      <td>5</td>\n",
              "      <td>2.26</td>\n",
              "      <td>4.22</td>\n",
              "      <td>0.58</td>\n",
              "      <td>23.20</td>\n",
              "      <td>88.00</td>\n",
              "      <td>Puzzle</td>\n",
              "      <td>1989</td>\n",
              "    </tr>\n",
              "  </tbody>\n",
              "</table>\n",
              "</div>"
            ],
            "text/plain": [
              "   Rank  Europe  Japan  Rest of World  North America  Review     Genre  Year\n",
              "0     1   28.39   3.77           8.54          40.43   76.28    Sports  2006\n",
              "1     2    3.58   6.81           0.77          29.08   91.00  Platform  1985\n",
              "2     3   12.22   3.63           3.21          14.50   82.07    Racing  2008\n",
              "3     4   10.51   3.18           3.01          14.82   82.65    Sports  2009\n",
              "4     5    2.26   4.22           0.58          23.20   88.00    Puzzle  1989"
            ]
          },
          "execution_count": 33,
          "metadata": {},
          "output_type": "execute_result"
        }
      ],
      "source": [
        "data = data[cols]\n",
        "data.head()"
      ]
    },
    {
      "cell_type": "markdown",
      "metadata": {
        "id": "RXvaHs_XamTC"
      },
      "source": [
        "### Обучим на неподготовленных данных"
      ]
    },
    {
      "cell_type": "code",
      "execution_count": 34,
      "metadata": {
        "id": "iWxUVdMKVMWv"
      },
      "outputs": [],
      "source": [
        "from sklearn.model_selection import train_test_split\n",
        "\n",
        "X_train, X_test, y_train, y_test = train_test_split(data[num_cols].values, data[target_col].values, test_size=0.2)"
      ]
    },
    {
      "cell_type": "code",
      "execution_count": 35,
      "metadata": {
        "id": "hM2BQNyjVTTG"
      },
      "outputs": [],
      "source": [
        "from sklearn.preprocessing import MinMaxScaler\n",
        "\n",
        "pca = MinMaxScaler()\n",
        "pca.fit(X_train)\n",
        "X_train = pca.transform(X_train)"
      ]
    },
    {
      "cell_type": "code",
      "execution_count": 37,
      "metadata": {
        "id": "wlJnYAuEVsb3"
      },
      "outputs": [],
      "source": [
        "from sklearn.linear_model import LogisticRegression\n",
        "from sklearn.dummy import DummyClassifier\n",
        "from sklearn.metrics import r2_score, mean_squared_error"
      ]
    },
    {
      "cell_type": "markdown",
      "metadata": {},
      "source": [
        "Функция для вывода метрик:\n",
        "1. Коэффициент детерминации (R^2)\n",
        "2. Среднеквадратическая ошибка (MSE)"
      ]
    },
    {
      "cell_type": "code",
      "execution_count": 38,
      "metadata": {},
      "outputs": [],
      "source": [
        "def print_metrics(y_preds, y):\n",
        "    print(f'R^2: {r2_score(y_preds, y)}')\n",
        "    print(f'MSE: {mean_squared_error(y_preds, y)}')"
      ]
    },
    {
      "cell_type": "code",
      "execution_count": null,
      "metadata": {},
      "outputs": [
        {
          "name": "stdout",
          "output_type": "stream",
          "text": [
            "R^2: 0.0\n",
            "MSE: 86.76666666666667\n"
          ]
        }
      ],
      "source": [
        "dr = DummyClassifier()\n",
        "dr.fit(X_train, y_train)\n",
        "print_metrics(dr.predict(X_test), y_test)"
      ]
    },
    {
      "cell_type": "code",
      "execution_count": null,
      "metadata": {},
      "outputs": [
        {
          "name": "stdout",
          "output_type": "stream",
          "text": [
            "R^2: -0.6468703194120311\n",
            "MSE: 52.53333333333333\n"
          ]
        }
      ],
      "source": [
        "lr = LogisticRegression()\n",
        "lr.fit(X_train, y_train)\n",
        "\n",
        "print_metrics(lr.predict(X_test), y_test)"
      ]
    },
    {
      "cell_type": "code",
      "execution_count": null,
      "metadata": {},
      "outputs": [
        {
          "name": "stdout",
          "output_type": "stream",
          "text": [
            "R^2: -0.9519304661207832\n",
            "MSE: 61.38333333333333\n"
          ]
        }
      ],
      "source": [
        "lr = MyLogisticRegression()\n",
        "lr.fit(X_train, y_train - np.min(data['Year']))\n",
        "\n",
        "print_metrics(lr.predict(X_test), y_test- np.min(data['Year']))"
      ]
    },
    {
      "cell_type": "code",
      "execution_count": 42,
      "metadata": {
        "colab": {
          "base_uri": "https://localhost:8080/"
        },
        "id": "-reUY-r0bP_j",
        "outputId": "a170563b-3df1-4107-9016-8d71dc75dcd4"
      },
      "outputs": [
        {
          "data": {
            "text/plain": [
              "array([[<Axes: title={'center': 'Rank'}>,\n",
              "        <Axes: title={'center': 'Europe'}>,\n",
              "        <Axes: title={'center': 'Japan'}>],\n",
              "       [<Axes: title={'center': 'Rest of World'}>,\n",
              "        <Axes: title={'center': 'North America'}>,\n",
              "        <Axes: title={'center': 'Review'}>],\n",
              "       [<Axes: title={'center': 'Year'}>, <Axes: >, <Axes: >]],\n",
              "      dtype=object)"
            ]
          },
          "execution_count": 42,
          "metadata": {},
          "output_type": "execute_result"
        },
        {
          "data": {
            "image/png": "[encoded data removed]",
            "text/plain": [
              "<Figure size 1400x1000 with 9 Axes>"
            ]
          },
          "metadata": {},
          "output_type": "display_data"
        }
      ],
      "source": [
        "data.hist(column=num_cols+cat_cols+[target_col], figsize=(14, 10))"
      ]
    },
    {
      "cell_type": "markdown",
      "metadata": {},
      "source": [
        "Добавляю в датафрейм колонки для всех категориальных столбцов"
      ]
    },
    {
      "cell_type": "code",
      "execution_count": 43,
      "metadata": {
        "colab": {
          "base_uri": "https://localhost:8080/"
        },
        "id": "pP3KJce5iBGB",
        "outputId": "29168f5a-0e9c-4b20-fe88-4dfa9728df7a"
      },
      "outputs": [
        {
          "data": {
            "text/plain": [
              "['Action',\n",
              " 'Adventure',\n",
              " 'Fighting',\n",
              " 'Misc',\n",
              " 'Platform',\n",
              " 'Puzzle',\n",
              " 'Racing',\n",
              " 'Role-Playing',\n",
              " 'Shooter',\n",
              " 'Simulation',\n",
              " 'Sports',\n",
              " 'Strategy']"
            ]
          },
          "execution_count": 43,
          "metadata": {},
          "output_type": "execute_result"
        }
      ],
      "source": [
        "cat_genre = data['Genre']\n",
        "cat_genre = pd.get_dummies(cat_genre)\n",
        "data = data.drop(columns=['Genre'])\n",
        "cat_cols.remove('Genre')\n",
        "\n",
        "data = data.join(cat_genre)\n",
        "cat_cols.extend(list(cat_genre.columns))\n",
        "cat_cols"
      ]
    },
    {
      "cell_type": "markdown",
      "metadata": {
        "id": "vZcV4RPPbr32"
      },
      "source": [
        "### Обучим на подготовленных данных"
      ]
    },
    {
      "cell_type": "code",
      "execution_count": 44,
      "metadata": {
        "id": "RJwV0hVzbvT3"
      },
      "outputs": [],
      "source": [
        "from sklearn.model_selection import train_test_split\n",
        "\n",
        "X_train, X_test, y_train, y_test = train_test_split(data[num_cols + cat_cols].values, data[target_col].values, test_size=0.2)"
      ]
    },
    {
      "cell_type": "code",
      "execution_count": 45,
      "metadata": {
        "id": "khlAUb0kbwoW"
      },
      "outputs": [],
      "source": [
        "from sklearn.preprocessing import MinMaxScaler\n",
        "\n",
        "pca = MinMaxScaler()\n",
        "pca.fit(X_train)\n",
        "X_train = pca.transform(X_train)"
      ]
    },
    {
      "cell_type": "markdown",
      "metadata": {},
      "source": [
        "### Константный предиктор"
      ]
    },
    {
      "cell_type": "code",
      "execution_count": null,
      "metadata": {},
      "outputs": [
        {
          "name": "stdout",
          "output_type": "stream",
          "text": [
            "R^2: 0.0\n",
            "MSE: 59.21666666666667\n"
          ]
        }
      ],
      "source": [
        "dr = DummyClassifier()\n",
        "dr.fit(X_train, y_train)\n",
        "\n",
        "print_metrics(dr.predict(X_test), y_test)"
      ]
    },
    {
      "cell_type": "markdown",
      "metadata": {},
      "source": [
        "### Логистическая регрессия"
      ]
    },
    {
      "cell_type": "code",
      "execution_count": null,
      "metadata": {},
      "outputs": [
        {
          "name": "stdout",
          "output_type": "stream",
          "text": [
            "R^2: 0.7437520757223512\n",
            "MSE: 13.716666666666667\n"
          ]
        }
      ],
      "source": [
        "lr = LogisticRegression()\n",
        "lr.fit(X_train, y_train)\n",
        "\n",
        "print_metrics(lr.predict(X_test), y_test)"
      ]
    },
    {
      "cell_type": "code",
      "execution_count": null,
      "metadata": {},
      "outputs": [
        {
          "name": "stdout",
          "output_type": "stream",
          "text": [
            "R^2: 0.6242977700666965\n",
            "MSE: 21.233333333333334\n"
          ]
        }
      ],
      "source": [
        "lr = MyLogisticRegression()\n",
        "lr.fit(X_train, y_train - np.min(data['Year']))\n",
        "\n",
        "print_metrics(lr.predict(X_test), y_test - np.min(data['Year']))"
      ]
    },
    {
      "cell_type": "markdown",
      "metadata": {},
      "source": [
        "### Дерево решений"
      ]
    },
    {
      "cell_type": "code",
      "execution_count": null,
      "metadata": {},
      "outputs": [
        {
          "name": "stdout",
          "output_type": "stream",
          "text": [
            "R^2: 0.9118880202646634\n",
            "MSE: 4.483333333333333\n"
          ]
        }
      ],
      "source": [
        "dtc = DecisionTreeClassifier()\n",
        "dtc.fit(X_train, y_train)\n",
        "\n",
        "print_metrics(dtc.predict(X_test), y_test)"
      ]
    },
    {
      "cell_type": "code",
      "execution_count": null,
      "metadata": {},
      "outputs": [
        {
          "name": "stdout",
          "output_type": "stream",
          "text": [
            "R^2: 0.8895211350872007\n",
            "MSE: 4.983333333333333\n"
          ]
        }
      ],
      "source": [
        "dtc = MyDecisionTreeClassifier()\n",
        "dtc.fit(X_train, y_train)\n",
        "print_metrics(dtc.predict(X_test), y_test)"
      ]
    },
    {
      "cell_type": "markdown",
      "metadata": {},
      "source": [
        "### Случайный лес"
      ]
    },
    {
      "cell_type": "code",
      "execution_count": null,
      "metadata": {},
      "outputs": [
        {
          "name": "stdout",
          "output_type": "stream",
          "text": [
            "R^2: 0.838997251027138\n",
            "MSE: 7.5\n"
          ]
        }
      ],
      "source": [
        "dtc = RandomForestClassifier(n_estimators=500, min_samples_split=30)\n",
        "dtc.fit(X_train, y_train)\n",
        "\n",
        "print_metrics(dtc.predict(X_test), y_test)"
      ]
    },
    {
      "cell_type": "code",
      "execution_count": null,
      "metadata": {},
      "outputs": [
        {
          "name": "stdout",
          "output_type": "stream",
          "text": [
            "R^2: 0.8895211350872007\n",
            "MSE: 4.983333333333333\n"
          ]
        }
      ],
      "source": [
        "dtc = MyRandomForestClassifier()\n",
        "dtc.fit(X_train, y_train)\n",
        "\n",
        "print_metrics(dtc.predict(X_test), y_test)"
      ]
    },
    {
      "cell_type": "markdown",
      "metadata": {},
      "source": [
        "### Градиентный бустинг"
      ]
    },
    {
      "cell_type": "code",
      "execution_count": null,
      "metadata": {},
      "outputs": [
        {
          "name": "stdout",
          "output_type": "stream",
          "text": [
            "R^2: 0.9619407764325577\n",
            "MSE: 1.7333333333333334\n"
          ]
        }
      ],
      "source": [
        "dtc = GradientBoostingClassifier()\n",
        "dtc.fit(X_train, y_train)\n",
        "\n",
        "print_metrics(dtc.predict(X_test), y_test)"
      ]
    },
    {
      "cell_type": "code",
      "execution_count": null,
      "metadata": {},
      "outputs": [
        {
          "name": "stdout",
          "output_type": "stream",
          "text": [
            "R^2: 0.8369485195395476\n",
            "MSE: 8.518405707682698\n"
          ]
        }
      ],
      "source": [
        "dtc = MyGradientBoostingClassifier(learning_rate=0.5)\n",
        "dtc.fit(X_train, y_train)\n",
        "print_metrics(dtc.predict(X_test), y_test)"
      ]
    }
  ],
  "metadata": {
    "colab": {
      "provenance": []
    },
    "kernelspec": {
      "display_name": "Python 3",
      "name": "python3"
    },
    "language_info": {
      "codemirror_mode": {
        "name": "ipython",
        "version": 3
      },
      "file_extension": ".py",
      "mimetype": "text/x-python",
      "name": "python",
      "nbconvert_exporter": "python",
      "pygments_lexer": "ipython3",
      "version": "3.10.9"
    }
  },
  "nbformat": 4,
  "nbformat_minor": 0
}
