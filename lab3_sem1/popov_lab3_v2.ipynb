{
 "cells": [
  {
   "cell_type": "markdown",
   "metadata": {},
   "source": [
    "# Датасет\n"
   ]
  },
  {
   "cell_type": "markdown",
   "metadata": {},
   "source": [
    "Ссылка на датасет: https://www.kaggle.com/datasets/thedevastator/global-video-game-sales-and-reviews\n",
    "Датасет \"Video Games Sales.csv\" содержит информацию о продажах видеоигр. Он включает рейтинг, региональные продажи, названия, жанры, издателей, платформы, отзывы и год выпуска. Данные предоставляют обширный обзор индустрии видеоигр, подходят для анализа трендов и проведения исследований.\n",
    "\n",
    "В качестве задачи регрессии я обучаю модель на предсказание мировых продаж игры исходя из ее жанра и года выпуска.\n",
    "В качестве задачи классификации я обучаю модель на предсказание года выпуска игры исходя из жанра и количества проданных единиц в разных регионах."
   ]
  },
  {
   "cell_type": "markdown",
   "metadata": {},
   "source": [
    "# Регрессия"
   ]
  },
  {
   "cell_type": "code",
   "execution_count": null,
   "metadata": {},
   "outputs": [],
   "source": [
    "import pandas as pd\n",
    "import numpy as np\n",
    "from matplotlib import pyplot as plt"
   ]
  },
  {
   "cell_type": "code",
   "execution_count": null,
   "metadata": {},
   "outputs": [],
   "source": [
    "from sklearn.linear_model import LinearRegression\n",
    "from sklearn.dummy import DummyRegressor\n",
    "from sklearn.metrics import r2_score, mean_squared_error"
   ]
  },
  {
   "cell_type": "markdown",
   "metadata": {},
   "source": [
    "Простая реализация линейной регрессии с использованием метода наименьших квадратов для обучения модели."
   ]
  },
  {
   "cell_type": "code",
   "execution_count": null,
   "metadata": {},
   "outputs": [],
   "source": [
    "class MyLinearRegression():\n",
    "  def __init__(self):\n",
    "    self.coef = []\n",
    "\n",
    "  def fit(self, X, y):\n",
    "    self.coef = np.dot(np.dot(np.linalg.inv(np.dot(X.T, X)), X.T), y)\n",
    "\n",
    "  def predict(self, X):\n",
    "    return np.dot(self.coef, X.T)"
   ]
  },
  {
   "cell_type": "markdown",
   "metadata": {},
   "source": [
    "## Датасет:\n"
   ]
  },
  {
   "cell_type": "markdown",
   "metadata": {},
   "source": [
    "Пропущенные значения в числовых столбцах заменяются на их средние значения."
   ]
  },
  {
   "cell_type": "code",
   "execution_count": null,
   "metadata": {},
   "outputs": [
    {
     "data": {
      "text/html": [
       "<div>\n",
       "<style scoped>\n",
       "    .dataframe tbody tr th:only-of-type {\n",
       "        vertical-align: middle;\n",
       "    }\n",
       "\n",
       "    .dataframe tbody tr th {\n",
       "        vertical-align: top;\n",
       "    }\n",
       "\n",
       "    .dataframe thead th {\n",
       "        text-align: right;\n",
       "    }\n",
       "</style>\n",
       "<table border=\"1\" class=\"dataframe\">\n",
       "  <thead>\n",
       "    <tr style=\"text-align: right;\">\n",
       "      <th></th>\n",
       "      <th>index</th>\n",
       "      <th>Rank</th>\n",
       "      <th>Game Title</th>\n",
       "      <th>Platform</th>\n",
       "      <th>Year</th>\n",
       "      <th>Genre</th>\n",
       "      <th>Publisher</th>\n",
       "      <th>North America</th>\n",
       "      <th>Europe</th>\n",
       "      <th>Japan</th>\n",
       "      <th>Rest of World</th>\n",
       "      <th>Global</th>\n",
       "      <th>Review</th>\n",
       "    </tr>\n",
       "  </thead>\n",
       "  <tbody>\n",
       "    <tr>\n",
       "      <th>0</th>\n",
       "      <td>0</td>\n",
       "      <td>1</td>\n",
       "      <td>Wii Sports</td>\n",
       "      <td>Wii</td>\n",
       "      <td>2006.0</td>\n",
       "      <td>Sports</td>\n",
       "      <td>Nintendo</td>\n",
       "      <td>40.43</td>\n",
       "      <td>28.39</td>\n",
       "      <td>3.77</td>\n",
       "      <td>8.54</td>\n",
       "      <td>81.12</td>\n",
       "      <td>76.28</td>\n",
       "    </tr>\n",
       "    <tr>\n",
       "      <th>1</th>\n",
       "      <td>1</td>\n",
       "      <td>2</td>\n",
       "      <td>Super Mario Bros.</td>\n",
       "      <td>NES</td>\n",
       "      <td>1985.0</td>\n",
       "      <td>Platform</td>\n",
       "      <td>Nintendo</td>\n",
       "      <td>29.08</td>\n",
       "      <td>3.58</td>\n",
       "      <td>6.81</td>\n",
       "      <td>0.77</td>\n",
       "      <td>40.24</td>\n",
       "      <td>91.00</td>\n",
       "    </tr>\n",
       "    <tr>\n",
       "      <th>2</th>\n",
       "      <td>2</td>\n",
       "      <td>3</td>\n",
       "      <td>Mario Kart Wii</td>\n",
       "      <td>Wii</td>\n",
       "      <td>2008.0</td>\n",
       "      <td>Racing</td>\n",
       "      <td>Nintendo</td>\n",
       "      <td>14.50</td>\n",
       "      <td>12.22</td>\n",
       "      <td>3.63</td>\n",
       "      <td>3.21</td>\n",
       "      <td>33.55</td>\n",
       "      <td>82.07</td>\n",
       "    </tr>\n",
       "    <tr>\n",
       "      <th>3</th>\n",
       "      <td>3</td>\n",
       "      <td>4</td>\n",
       "      <td>Wii Sports Resort</td>\n",
       "      <td>Wii</td>\n",
       "      <td>2009.0</td>\n",
       "      <td>Sports</td>\n",
       "      <td>Nintendo</td>\n",
       "      <td>14.82</td>\n",
       "      <td>10.51</td>\n",
       "      <td>3.18</td>\n",
       "      <td>3.01</td>\n",
       "      <td>31.52</td>\n",
       "      <td>82.65</td>\n",
       "    </tr>\n",
       "    <tr>\n",
       "      <th>4</th>\n",
       "      <td>4</td>\n",
       "      <td>5</td>\n",
       "      <td>Tetris</td>\n",
       "      <td>GB</td>\n",
       "      <td>1989.0</td>\n",
       "      <td>Puzzle</td>\n",
       "      <td>Nintendo</td>\n",
       "      <td>23.20</td>\n",
       "      <td>2.26</td>\n",
       "      <td>4.22</td>\n",
       "      <td>0.58</td>\n",
       "      <td>30.26</td>\n",
       "      <td>88.00</td>\n",
       "    </tr>\n",
       "  </tbody>\n",
       "</table>\n",
       "</div>"
      ],
      "text/plain": [
       "   index  Rank         Game Title Platform    Year     Genre Publisher  \\\n",
       "0      0     1         Wii Sports      Wii  2006.0    Sports  Nintendo   \n",
       "1      1     2  Super Mario Bros.      NES  1985.0  Platform  Nintendo   \n",
       "2      2     3     Mario Kart Wii      Wii  2008.0    Racing  Nintendo   \n",
       "3      3     4  Wii Sports Resort      Wii  2009.0    Sports  Nintendo   \n",
       "4      4     5             Tetris       GB  1989.0    Puzzle  Nintendo   \n",
       "\n",
       "   North America  Europe  Japan  Rest of World  Global  Review  \n",
       "0          40.43   28.39   3.77           8.54   81.12   76.28  \n",
       "1          29.08    3.58   6.81           0.77   40.24   91.00  \n",
       "2          14.50   12.22   3.63           3.21   33.55   82.07  \n",
       "3          14.82   10.51   3.18           3.01   31.52   82.65  \n",
       "4          23.20    2.26   4.22           0.58   30.26   88.00  "
      ]
     },
     "metadata": {},
     "output_type": "display_data"
    }
   ],
   "source": [
    "data = pd.read_csv('./VideoGamesSales.csv')\n",
    "numeric_cols = data.select_dtypes(include=['number']).columns\n",
    "data[numeric_cols] = data[numeric_cols].fillna(data[numeric_cols].mean())\n",
    "data.head()"
   ]
  },
  {
   "cell_type": "markdown",
   "metadata": {},
   "source": [
    "Определены списки числовых и категориальных столбцов, а также выбрана целевая переменная."
   ]
  },
  {
   "cell_type": "code",
   "execution_count": null,
   "metadata": {},
   "outputs": [],
   "source": [
    "num_cols = [\n",
    "    'Rank',              # Ранг видеоигры по глобальным продажам\n",
    "    'Europe',            # Количество проданных единиц в Европе (в миллионах)\n",
    "    'Japan',             # Количество проданных единиц в Японии (в миллионах)\n",
    "    'Rest of World',     # Предполагается, что есть столбец 'Rest of World', но не определен в предоставленных данных\n",
    "    'North America',     # Количество проданных единиц в Северной Америке (в миллионах)\n",
    "    'Review'             # Предполагается, что есть столбец 'Review', но не определен в предоставленных данных\n",
    "]\n",
    "\n",
    "cat_cols = [\n",
    "    'Genre',            # Жанр игры, например, экшн, приключения, гонки и т. д.\n",
    "    'Year',             # Год выпуска игры\n",
    "    'Game Title'        # Название игры\n",
    "]\n",
    "\n",
    "target_col = 'Global'   # Количество проданных единиц в мире (в миллионах)\n",
    "\n",
    "cols = num_cols + cat_cols + [target_col]"
   ]
  },
  {
   "cell_type": "code",
   "execution_count": null,
   "metadata": {},
   "outputs": [
    {
     "data": {
      "text/html": [
       "<div>\n",
       "<style scoped>\n",
       "    .dataframe tbody tr th:only-of-type {\n",
       "        vertical-align: middle;\n",
       "    }\n",
       "\n",
       "    .dataframe tbody tr th {\n",
       "        vertical-align: top;\n",
       "    }\n",
       "\n",
       "    .dataframe thead th {\n",
       "        text-align: right;\n",
       "    }\n",
       "</style>\n",
       "<table border=\"1\" class=\"dataframe\">\n",
       "  <thead>\n",
       "    <tr style=\"text-align: right;\">\n",
       "      <th></th>\n",
       "      <th>Rank</th>\n",
       "      <th>Europe</th>\n",
       "      <th>Japan</th>\n",
       "      <th>Rest of World</th>\n",
       "      <th>North America</th>\n",
       "      <th>Review</th>\n",
       "      <th>Genre</th>\n",
       "      <th>Year</th>\n",
       "      <th>Game Title</th>\n",
       "      <th>Global</th>\n",
       "    </tr>\n",
       "  </thead>\n",
       "  <tbody>\n",
       "    <tr>\n",
       "      <th>0</th>\n",
       "      <td>1</td>\n",
       "      <td>28.39</td>\n",
       "      <td>3.77</td>\n",
       "      <td>8.54</td>\n",
       "      <td>40.43</td>\n",
       "      <td>76.28</td>\n",
       "      <td>Sports</td>\n",
       "      <td>2006.0</td>\n",
       "      <td>Wii Sports</td>\n",
       "      <td>81.12</td>\n",
       "    </tr>\n",
       "    <tr>\n",
       "      <th>1</th>\n",
       "      <td>2</td>\n",
       "      <td>3.58</td>\n",
       "      <td>6.81</td>\n",
       "      <td>0.77</td>\n",
       "      <td>29.08</td>\n",
       "      <td>91.00</td>\n",
       "      <td>Platform</td>\n",
       "      <td>1985.0</td>\n",
       "      <td>Super Mario Bros.</td>\n",
       "      <td>40.24</td>\n",
       "    </tr>\n",
       "    <tr>\n",
       "      <th>2</th>\n",
       "      <td>3</td>\n",
       "      <td>12.22</td>\n",
       "      <td>3.63</td>\n",
       "      <td>3.21</td>\n",
       "      <td>14.50</td>\n",
       "      <td>82.07</td>\n",
       "      <td>Racing</td>\n",
       "      <td>2008.0</td>\n",
       "      <td>Mario Kart Wii</td>\n",
       "      <td>33.55</td>\n",
       "    </tr>\n",
       "    <tr>\n",
       "      <th>3</th>\n",
       "      <td>4</td>\n",
       "      <td>10.51</td>\n",
       "      <td>3.18</td>\n",
       "      <td>3.01</td>\n",
       "      <td>14.82</td>\n",
       "      <td>82.65</td>\n",
       "      <td>Sports</td>\n",
       "      <td>2009.0</td>\n",
       "      <td>Wii Sports Resort</td>\n",
       "      <td>31.52</td>\n",
       "    </tr>\n",
       "    <tr>\n",
       "      <th>4</th>\n",
       "      <td>5</td>\n",
       "      <td>2.26</td>\n",
       "      <td>4.22</td>\n",
       "      <td>0.58</td>\n",
       "      <td>23.20</td>\n",
       "      <td>88.00</td>\n",
       "      <td>Puzzle</td>\n",
       "      <td>1989.0</td>\n",
       "      <td>Tetris</td>\n",
       "      <td>30.26</td>\n",
       "    </tr>\n",
       "  </tbody>\n",
       "</table>\n",
       "</div>"
      ],
      "text/plain": [
       "   Rank  Europe  Japan  Rest of World  North America  Review     Genre  \\\n",
       "0     1   28.39   3.77           8.54          40.43   76.28    Sports   \n",
       "1     2    3.58   6.81           0.77          29.08   91.00  Platform   \n",
       "2     3   12.22   3.63           3.21          14.50   82.07    Racing   \n",
       "3     4   10.51   3.18           3.01          14.82   82.65    Sports   \n",
       "4     5    2.26   4.22           0.58          23.20   88.00    Puzzle   \n",
       "\n",
       "     Year         Game Title  Global  \n",
       "0  2006.0         Wii Sports   81.12  \n",
       "1  1985.0  Super Mario Bros.   40.24  \n",
       "2  2008.0     Mario Kart Wii   33.55  \n",
       "3  2009.0  Wii Sports Resort   31.52  \n",
       "4  1989.0             Tetris   30.26  "
      ]
     },
     "metadata": {},
     "output_type": "display_data"
    }
   ],
   "source": [
    "data = data[cols]\n",
    "data.head()"
   ]
  },
  {
   "cell_type": "markdown",
   "metadata": {},
   "source": [
    "## Обучим неподготовленные данные\n",
    "\n",
    "Обучающий набор составляет 80% данных, а тестовый - 20%."
   ]
  },
  {
   "cell_type": "code",
   "execution_count": null,
   "metadata": {},
   "outputs": [],
   "source": [
    "from sklearn.model_selection import train_test_split\n",
    "X_train, X_test, y_train, y_test = train_test_split(data[num_cols].values, data[target_col].values, test_size=0.2)"
   ]
  },
  {
   "cell_type": "markdown",
   "metadata": {},
   "source": [
    "\n",
    "Масштабирование данных"
   ]
  },
  {
   "cell_type": "code",
   "execution_count": null,
   "metadata": {},
   "outputs": [],
   "source": [
    "from sklearn.preprocessing import MinMaxScaler\n",
    "\n",
    "pca = MinMaxScaler()\n",
    "pca.fit(X_train)\n",
    "X_train = pca.transform(X_train)"
   ]
  },
  {
   "cell_type": "markdown",
   "metadata": {},
   "source": [
    "Функция для вывода метрик:\n",
    "1. Коэффициент детерминации (R^2)\n",
    "2. Среднеквадратическая ошибка (MSE)"
   ]
  },
  {
   "cell_type": "code",
   "execution_count": null,
   "metadata": {},
   "outputs": [],
   "source": [
    "def print_metrics(y_preds, y):\n",
    "    print(f'R^2: {r2_score(y_preds, y)}')\n",
    "    print(f'MSE: {mean_squared_error(y_preds, y)}')"
   ]
  },
  {
   "cell_type": "markdown",
   "metadata": {},
   "source": [
    "### Константный предиктор"
   ]
  },
  {
   "cell_type": "code",
   "execution_count": null,
   "metadata": {},
   "outputs": [
    {
     "name": "stdout",
     "output_type": "stream",
     "text": [
      "R^2: 0.0\n",
      "MSE: 24.053106949183345\n"
     ]
    }
   ],
   "source": [
    "dr = DummyRegressor()\n",
    "dr.fit(X_train, y_train)\n",
    "\n",
    "print_metrics(dr.predict(X_test), y_test)"
   ]
  },
  {
   "cell_type": "markdown",
   "metadata": {},
   "source": [
    "### Линейная регрессия"
   ]
  },
  {
   "cell_type": "markdown",
   "metadata": {},
   "source": [
    "Судя по результатам, моя реализация линейной регрессии сопоставима со встроенной в sklern"
   ]
  },
  {
   "cell_type": "code",
   "execution_count": null,
   "metadata": {},
   "outputs": [
    {
     "name": "stdout",
     "output_type": "stream",
     "text": [
      "R^2: 0.5680435954480443\n",
      "MSE: 4.192139833615165\n"
     ]
    }
   ],
   "source": [
    "lr = MyLinearRegression()\n",
    "lr.fit(X_train, y_train)\n",
    "\n",
    "print_metrics(lr.predict(X_test), y_test)"
   ]
  },
  {
   "cell_type": "code",
   "execution_count": null,
   "metadata": {},
   "outputs": [
    {
     "name": "stdout",
     "output_type": "stream",
     "text": [
      "R^2: 0.5680329256662653\n",
      "MSE: 4.192188602622477\n"
     ]
    }
   ],
   "source": [
    "lr = LinearRegression()\n",
    "lr.fit(X_train, y_train)\n",
    "\n",
    "print_metrics(lr.predict(X_test), y_test)"
   ]
  },
  {
   "cell_type": "markdown",
   "metadata": {},
   "source": [
    "### Проверка на пустые значения"
   ]
  },
  {
   "cell_type": "code",
   "execution_count": null,
   "metadata": {},
   "outputs": [
    {
     "data": {
      "text/plain": [
       "Rank             0.0\n",
       "Europe           0.0\n",
       "Japan            0.0\n",
       "Rest of World    0.0\n",
       "North America    0.0\n",
       "Review           0.0\n",
       "Genre            0.0\n",
       "Year             0.0\n",
       "Game Title       0.0\n",
       "Global           0.0\n",
       "dtype: float64"
      ]
     },
     "metadata": {},
     "output_type": "display_data"
    }
   ],
   "source": [
    "data.isna().mean()"
   ]
  },
  {
   "cell_type": "markdown",
   "metadata": {},
   "source": [
    "Колонка с названиями слишком неравномерна, и будет мешать при обучении"
   ]
  },
  {
   "cell_type": "code",
   "execution_count": null,
   "metadata": {},
   "outputs": [],
   "source": [
    "data = data.drop(columns=['Game Title'])\n",
    "cat_cols.remove('Game Title')"
   ]
  },
  {
   "cell_type": "code",
   "execution_count": null,
   "metadata": {},
   "outputs": [
    {
     "data": {
      "text/plain": [
       "array([[<Axes: title={'center': 'Rank'}>,\n",
       "        <Axes: title={'center': 'Europe'}>,\n",
       "        <Axes: title={'center': 'Japan'}>],\n",
       "       [<Axes: title={'center': 'Rest of World'}>,\n",
       "        <Axes: title={'center': 'North America'}>,\n",
       "        <Axes: title={'center': 'Review'}>],\n",
       "       [<Axes: title={'center': 'Year'}>,\n",
       "        <Axes: title={'center': 'Global'}>, <Axes: >]], dtype=object)"
      ]
     },
     "metadata": {},
     "output_type": "display_data"
    },
    {
     "data": {
      "image/png": "[encoded data removed]",
      "text/plain": [
       "<Figure size 1400x1000 with 9 Axes>"
      ]
     },
     "metadata": {},
     "output_type": "display_data"
    }
   ],
   "source": [
    "data.hist(column=num_cols+cat_cols+[target_col], figsize=(14, 10))"
   ]
  },
  {
   "cell_type": "markdown",
   "metadata": {},
   "source": [
    "Добавляю в датафрейм колонки для всех категориальных столбцов"
   ]
  },
  {
   "cell_type": "code",
   "execution_count": null,
   "metadata": {},
   "outputs": [
    {
     "data": {
      "text/plain": [
       "['Year',\n",
       " 'Action',\n",
       " 'Adventure',\n",
       " 'Fighting',\n",
       " 'Misc',\n",
       " 'Platform',\n",
       " 'Puzzle',\n",
       " 'Racing',\n",
       " 'Role-Playing',\n",
       " 'Shooter',\n",
       " 'Simulation',\n",
       " 'Sports',\n",
       " 'Strategy']"
      ]
     },
     "metadata": {},
     "output_type": "display_data"
    }
   ],
   "source": [
    "cat_genre = data['Genre']\n",
    "cat_genre = pd.get_dummies(cat_genre)\n",
    "data = data.drop(columns=['Genre'])\n",
    "cat_cols.remove('Genre')\n",
    "\n",
    "data = data.join(cat_genre)\n",
    "cat_cols.extend(list(cat_genre.columns))\n",
    "cat_cols"
   ]
  },
  {
   "cell_type": "code",
   "execution_count": null,
   "metadata": {},
   "outputs": [
    {
     "data": {
      "text/html": [
       "<div>\n",
       "<style scoped>\n",
       "    .dataframe tbody tr th:only-of-type {\n",
       "        vertical-align: middle;\n",
       "    }\n",
       "\n",
       "    .dataframe tbody tr th {\n",
       "        vertical-align: top;\n",
       "    }\n",
       "\n",
       "    .dataframe thead th {\n",
       "        text-align: right;\n",
       "    }\n",
       "</style>\n",
       "<table border=\"1\" class=\"dataframe\">\n",
       "  <thead>\n",
       "    <tr style=\"text-align: right;\">\n",
       "      <th></th>\n",
       "      <th>Rank</th>\n",
       "      <th>Europe</th>\n",
       "      <th>Japan</th>\n",
       "      <th>Rest of World</th>\n",
       "      <th>North America</th>\n",
       "      <th>Review</th>\n",
       "      <th>Year</th>\n",
       "      <th>Global</th>\n",
       "      <th>Action</th>\n",
       "      <th>Adventure</th>\n",
       "      <th>Fighting</th>\n",
       "      <th>Misc</th>\n",
       "      <th>Platform</th>\n",
       "      <th>Puzzle</th>\n",
       "      <th>Racing</th>\n",
       "      <th>Role-Playing</th>\n",
       "      <th>Shooter</th>\n",
       "      <th>Simulation</th>\n",
       "      <th>Sports</th>\n",
       "      <th>Strategy</th>\n",
       "    </tr>\n",
       "  </thead>\n",
       "  <tbody>\n",
       "    <tr>\n",
       "      <th>0</th>\n",
       "      <td>1</td>\n",
       "      <td>28.39</td>\n",
       "      <td>3.77</td>\n",
       "      <td>8.54</td>\n",
       "      <td>40.43</td>\n",
       "      <td>76.28</td>\n",
       "      <td>2006.0</td>\n",
       "      <td>81.12</td>\n",
       "      <td>False</td>\n",
       "      <td>False</td>\n",
       "      <td>False</td>\n",
       "      <td>False</td>\n",
       "      <td>False</td>\n",
       "      <td>False</td>\n",
       "      <td>False</td>\n",
       "      <td>False</td>\n",
       "      <td>False</td>\n",
       "      <td>False</td>\n",
       "      <td>True</td>\n",
       "      <td>False</td>\n",
       "    </tr>\n",
       "    <tr>\n",
       "      <th>1</th>\n",
       "      <td>2</td>\n",
       "      <td>3.58</td>\n",
       "      <td>6.81</td>\n",
       "      <td>0.77</td>\n",
       "      <td>29.08</td>\n",
       "      <td>91.00</td>\n",
       "      <td>1985.0</td>\n",
       "      <td>40.24</td>\n",
       "      <td>False</td>\n",
       "      <td>False</td>\n",
       "      <td>False</td>\n",
       "      <td>False</td>\n",
       "      <td>True</td>\n",
       "      <td>False</td>\n",
       "      <td>False</td>\n",
       "      <td>False</td>\n",
       "      <td>False</td>\n",
       "      <td>False</td>\n",
       "      <td>False</td>\n",
       "      <td>False</td>\n",
       "    </tr>\n",
       "    <tr>\n",
       "      <th>2</th>\n",
       "      <td>3</td>\n",
       "      <td>12.22</td>\n",
       "      <td>3.63</td>\n",
       "      <td>3.21</td>\n",
       "      <td>14.50</td>\n",
       "      <td>82.07</td>\n",
       "      <td>2008.0</td>\n",
       "      <td>33.55</td>\n",
       "      <td>False</td>\n",
       "      <td>False</td>\n",
       "      <td>False</td>\n",
       "      <td>False</td>\n",
       "      <td>False</td>\n",
       "      <td>False</td>\n",
       "      <td>True</td>\n",
       "      <td>False</td>\n",
       "      <td>False</td>\n",
       "      <td>False</td>\n",
       "      <td>False</td>\n",
       "      <td>False</td>\n",
       "    </tr>\n",
       "    <tr>\n",
       "      <th>3</th>\n",
       "      <td>4</td>\n",
       "      <td>10.51</td>\n",
       "      <td>3.18</td>\n",
       "      <td>3.01</td>\n",
       "      <td>14.82</td>\n",
       "      <td>82.65</td>\n",
       "      <td>2009.0</td>\n",
       "      <td>31.52</td>\n",
       "      <td>False</td>\n",
       "      <td>False</td>\n",
       "      <td>False</td>\n",
       "      <td>False</td>\n",
       "      <td>False</td>\n",
       "      <td>False</td>\n",
       "      <td>False</td>\n",
       "      <td>False</td>\n",
       "      <td>False</td>\n",
       "      <td>False</td>\n",
       "      <td>True</td>\n",
       "      <td>False</td>\n",
       "    </tr>\n",
       "    <tr>\n",
       "      <th>4</th>\n",
       "      <td>5</td>\n",
       "      <td>2.26</td>\n",
       "      <td>4.22</td>\n",
       "      <td>0.58</td>\n",
       "      <td>23.20</td>\n",
       "      <td>88.00</td>\n",
       "      <td>1989.0</td>\n",
       "      <td>30.26</td>\n",
       "      <td>False</td>\n",
       "      <td>False</td>\n",
       "      <td>False</td>\n",
       "      <td>False</td>\n",
       "      <td>False</td>\n",
       "      <td>True</td>\n",
       "      <td>False</td>\n",
       "      <td>False</td>\n",
       "      <td>False</td>\n",
       "      <td>False</td>\n",
       "      <td>False</td>\n",
       "      <td>False</td>\n",
       "    </tr>\n",
       "  </tbody>\n",
       "</table>\n",
       "</div>"
      ],
      "text/plain": [
       "   Rank  Europe  Japan  Rest of World  North America  Review    Year  Global  \\\n",
       "0     1   28.39   3.77           8.54          40.43   76.28  2006.0   81.12   \n",
       "1     2    3.58   6.81           0.77          29.08   91.00  1985.0   40.24   \n",
       "2     3   12.22   3.63           3.21          14.50   82.07  2008.0   33.55   \n",
       "3     4   10.51   3.18           3.01          14.82   82.65  2009.0   31.52   \n",
       "4     5    2.26   4.22           0.58          23.20   88.00  1989.0   30.26   \n",
       "\n",
       "   Action  Adventure  Fighting   Misc  Platform  Puzzle  Racing  Role-Playing  \\\n",
       "0   False      False     False  False     False   False   False         False   \n",
       "1   False      False     False  False      True   False   False         False   \n",
       "2   False      False     False  False     False   False    True         False   \n",
       "3   False      False     False  False     False   False   False         False   \n",
       "4   False      False     False  False     False    True   False         False   \n",
       "\n",
       "   Shooter  Simulation  Sports  Strategy  \n",
       "0    False       False    True     False  \n",
       "1    False       False   False     False  \n",
       "2    False       False   False     False  \n",
       "3    False       False    True     False  \n",
       "4    False       False   False     False  "
      ]
     },
     "metadata": {},
     "output_type": "display_data"
    }
   ],
   "source": [
    "data.head()"
   ]
  },
  {
   "cell_type": "markdown",
   "metadata": {},
   "source": [
    "## Обучение подготовленных данных"
   ]
  },
  {
   "cell_type": "code",
   "execution_count": null,
   "metadata": {},
   "outputs": [],
   "source": [
    "from sklearn.model_selection import train_test_split\n",
    "\n",
    "X_train, X_test, y_train, y_test = train_test_split(data[num_cols + cat_cols].values, data[target_col].values, test_size=0.2)"
   ]
  },
  {
   "cell_type": "code",
   "execution_count": null,
   "metadata": {},
   "outputs": [],
   "source": [
    "from sklearn.preprocessing import MinMaxScaler\n",
    "\n",
    "pca = MinMaxScaler()\n",
    "pca.fit(X_train)\n",
    "X_train = pca.transform(X_train)"
   ]
  },
  {
   "cell_type": "code",
   "execution_count": null,
   "metadata": {},
   "outputs": [],
   "source": [
    "pca = MinMaxScaler()\n",
    "pca.fit(X_test)\n",
    "X_test = pca.transform(X_test)"
   ]
  },
  {
   "cell_type": "markdown",
   "metadata": {},
   "source": [
    "### Константный предиктор"
   ]
  },
  {
   "cell_type": "code",
   "execution_count": null,
   "metadata": {},
   "outputs": [
    {
     "name": "stdout",
     "output_type": "stream",
     "text": [
      "R^2: 0.0\n",
      "MSE: 24.053106949183345\n"
     ]
    }
   ],
   "source": [
    "dr = DummyRegressor()\n",
    "dr.fit(X_train, y_train)\n",
    "\n",
    "print_metrics(dr.predict(X_test), y_test)"
   ]
  },
  {
   "cell_type": "markdown",
   "metadata": {},
   "source": [
    "### Линейная регрессия"
   ]
  },
  {
   "cell_type": "markdown",
   "metadata": {},
   "source": [
    "Судя по результатам, моя реализация линейной регрессии сопоставима со встроенной в sklern"
   ]
  },
  {
   "cell_type": "code",
   "execution_count": null,
   "metadata": {},
   "outputs": [
    {
     "name": "stdout",
     "output_type": "stream",
     "text": [
      "R^2: 0.5680329256662653\n",
      "MSE: 4.192188602622477\n"
     ]
    }
   ],
   "source": [
    "lr = LinearRegression()\n",
    "lr.fit(X_train, y_train)\n",
    "\n",
    "print_metrics(lr.predict(X_test), y_test)"
   ]
  },
  {
   "cell_type": "code",
   "execution_count": null,
   "metadata": {},
   "outputs": [
    {
     "name": "stdout",
     "output_type": "stream",
     "text": [
      "R^2: 0.5680435954480443\n",
      "MSE: 4.192139833615165\n"
     ]
    }
   ],
   "source": [
    "lr = MyLinearRegression()\n",
    "lr.fit(X_train, y_train)\n",
    "\n",
    "print_metrics(lr.predict(X_test), y_test)"
   ]
  },
  {
   "cell_type": "markdown",
   "metadata": {},
   "source": [
    "# Классификация\n"
   ]
  },
  {
   "cell_type": "code",
   "execution_count": null,
   "metadata": {},
   "outputs": [],
   "source": [
    "from sklearn.linear_model import LogisticRegression"
   ]
  },
  {
   "cell_type": "markdown",
   "metadata": {},
   "source": [
    "Реализация логистической регрессии с использованием метода градиентного спуска."
   ]
  },
  {
   "cell_type": "code",
   "execution_count": null,
   "metadata": {},
   "outputs": [],
   "source": [
    "class MyLogisticRegression():\n",
    "    def __init__(self, learning_rate=0.1, num_iterations=1000):\n",
    "        self.learning_rate = learning_rate\n",
    "        self.num_iterations = num_iterations\n",
    "        self.weights = None\n",
    "        self.bias = None\n",
    "\n",
    "    def softmax(self, z):\n",
    "        exp_z = np.exp(z - np.max(z, axis=1, keepdims=True))\n",
    "        return exp_z / np.sum(exp_z, axis=1, keepdims=True)\n",
    "\n",
    "    def fit(self, X, y):\n",
    "        num_classes = len(np.unique(y))\n",
    "        num_features = X.shape[1]\n",
    "\n",
    "        self.weights = np.zeros((num_features, num_classes))\n",
    "        self.bias = np.zeros((1, num_classes))\n",
    "\n",
    "        y_one_hot = np.eye(num_classes)[y]\n",
    "\n",
    "        for _ in range(self.num_iterations):\n",
    "            linear_combination = np.dot(X, self.weights) + self.bias\n",
    "\n",
    "            predictions = self.softmax(linear_combination)\n",
    "\n",
    "            gradient_weights = np.dot(X.T, (predictions - y_one_hot)) / len(y)\n",
    "            gradient_bias = np.sum(predictions - y_one_hot, axis=0, keepdims=True) / len(y)\n",
    "\n",
    "            self.weights -= self.learning_rate * gradient_weights\n",
    "            self.bias -= self.learning_rate * gradient_bias\n",
    "\n",
    "    def predict(self, X):\n",
    "        linear_combination = np.dot(X, self.weights) + self.bias\n",
    "        predictions = self.softmax(linear_combination)\n",
    "        return np.argmax(predictions, axis=1)"
   ]
  },
  {
   "cell_type": "markdown",
   "metadata": {},
   "source": [
    "## Данные"
   ]
  },
  {
   "cell_type": "code",
   "execution_count": null,
   "metadata": {},
   "outputs": [
    {
     "data": {
      "text/html": [
       "<div>\n",
       "<style scoped>\n",
       "    .dataframe tbody tr th:only-of-type {\n",
       "        vertical-align: middle;\n",
       "    }\n",
       "\n",
       "    .dataframe tbody tr th {\n",
       "        vertical-align: top;\n",
       "    }\n",
       "\n",
       "    .dataframe thead th {\n",
       "        text-align: right;\n",
       "    }\n",
       "</style>\n",
       "<table border=\"1\" class=\"dataframe\">\n",
       "  <thead>\n",
       "    <tr style=\"text-align: right;\">\n",
       "      <th></th>\n",
       "      <th>index</th>\n",
       "      <th>Rank</th>\n",
       "      <th>Game Title</th>\n",
       "      <th>Platform</th>\n",
       "      <th>Year</th>\n",
       "      <th>Genre</th>\n",
       "      <th>Publisher</th>\n",
       "      <th>North America</th>\n",
       "      <th>Europe</th>\n",
       "      <th>Japan</th>\n",
       "      <th>Rest of World</th>\n",
       "      <th>Global</th>\n",
       "      <th>Review</th>\n",
       "    </tr>\n",
       "  </thead>\n",
       "  <tbody>\n",
       "    <tr>\n",
       "      <th>0</th>\n",
       "      <td>0</td>\n",
       "      <td>1</td>\n",
       "      <td>Wii Sports</td>\n",
       "      <td>Wii</td>\n",
       "      <td>2006</td>\n",
       "      <td>Sports</td>\n",
       "      <td>Nintendo</td>\n",
       "      <td>40.43</td>\n",
       "      <td>28.39</td>\n",
       "      <td>3.77</td>\n",
       "      <td>8.54</td>\n",
       "      <td>81.12</td>\n",
       "      <td>76.28</td>\n",
       "    </tr>\n",
       "    <tr>\n",
       "      <th>1</th>\n",
       "      <td>1</td>\n",
       "      <td>2</td>\n",
       "      <td>Super Mario Bros.</td>\n",
       "      <td>NES</td>\n",
       "      <td>1985</td>\n",
       "      <td>Platform</td>\n",
       "      <td>Nintendo</td>\n",
       "      <td>29.08</td>\n",
       "      <td>3.58</td>\n",
       "      <td>6.81</td>\n",
       "      <td>0.77</td>\n",
       "      <td>40.24</td>\n",
       "      <td>91.00</td>\n",
       "    </tr>\n",
       "    <tr>\n",
       "      <th>2</th>\n",
       "      <td>2</td>\n",
       "      <td>3</td>\n",
       "      <td>Mario Kart Wii</td>\n",
       "      <td>Wii</td>\n",
       "      <td>2008</td>\n",
       "      <td>Racing</td>\n",
       "      <td>Nintendo</td>\n",
       "      <td>14.50</td>\n",
       "      <td>12.22</td>\n",
       "      <td>3.63</td>\n",
       "      <td>3.21</td>\n",
       "      <td>33.55</td>\n",
       "      <td>82.07</td>\n",
       "    </tr>\n",
       "    <tr>\n",
       "      <th>3</th>\n",
       "      <td>3</td>\n",
       "      <td>4</td>\n",
       "      <td>Wii Sports Resort</td>\n",
       "      <td>Wii</td>\n",
       "      <td>2009</td>\n",
       "      <td>Sports</td>\n",
       "      <td>Nintendo</td>\n",
       "      <td>14.82</td>\n",
       "      <td>10.51</td>\n",
       "      <td>3.18</td>\n",
       "      <td>3.01</td>\n",
       "      <td>31.52</td>\n",
       "      <td>82.65</td>\n",
       "    </tr>\n",
       "    <tr>\n",
       "      <th>4</th>\n",
       "      <td>4</td>\n",
       "      <td>5</td>\n",
       "      <td>Tetris</td>\n",
       "      <td>GB</td>\n",
       "      <td>1989</td>\n",
       "      <td>Puzzle</td>\n",
       "      <td>Nintendo</td>\n",
       "      <td>23.20</td>\n",
       "      <td>2.26</td>\n",
       "      <td>4.22</td>\n",
       "      <td>0.58</td>\n",
       "      <td>30.26</td>\n",
       "      <td>88.00</td>\n",
       "    </tr>\n",
       "  </tbody>\n",
       "</table>\n",
       "</div>"
      ],
      "text/plain": [
       "   index  Rank         Game Title Platform  Year     Genre Publisher  \\\n",
       "0      0     1         Wii Sports      Wii  2006    Sports  Nintendo   \n",
       "1      1     2  Super Mario Bros.      NES  1985  Platform  Nintendo   \n",
       "2      2     3     Mario Kart Wii      Wii  2008    Racing  Nintendo   \n",
       "3      3     4  Wii Sports Resort      Wii  2009    Sports  Nintendo   \n",
       "4      4     5             Tetris       GB  1989    Puzzle  Nintendo   \n",
       "\n",
       "   North America  Europe  Japan  Rest of World  Global  Review  \n",
       "0          40.43   28.39   3.77           8.54   81.12   76.28  \n",
       "1          29.08    3.58   6.81           0.77   40.24   91.00  \n",
       "2          14.50   12.22   3.63           3.21   33.55   82.07  \n",
       "3          14.82   10.51   3.18           3.01   31.52   82.65  \n",
       "4          23.20    2.26   4.22           0.58   30.26   88.00  "
      ]
     },
     "metadata": {},
     "output_type": "display_data"
    }
   ],
   "source": [
    "data = pd.read_csv('./VideoGamesSales.csv')\n",
    "numeric_cols = data.select_dtypes(include=['number']).columns\n",
    "data[numeric_cols] = data[numeric_cols].fillna(data[numeric_cols].mean())\n",
    "data[\"Year\"] = data[\"Year\"].astype(int)\n",
    "data.head()"
   ]
  },
  {
   "cell_type": "markdown",
   "metadata": {},
   "source": [
    "### Разделим на категории и будем решать задачу классификации по жанрам"
   ]
  },
  {
   "cell_type": "code",
   "execution_count": null,
   "metadata": {},
   "outputs": [],
   "source": [
    "num_cols = [\n",
    "    'Rank',              # Ранг видеоигры по глобальным продажам\n",
    "    'Europe',            # Количество проданных единиц в Европе (в миллионах)\n",
    "    'Japan',             # Количество проданных единиц в Японии (в миллионах)\n",
    "    'Rest of World',     # Предполагается, что есть столбец 'Rest of World', но не определен в предоставленных данных\n",
    "    'North America',     # Количество проданных единиц в Северной Америке (в миллионах)\n",
    "    'Review'             # Предполагается, что есть столбец 'Review', но не определен в предоставленных данных\n",
    "]\n",
    "\n",
    "cat_cols = [\n",
    "    'Genre'              # Жанр игры, например, экшн, приключения, гонки и т. д.\n",
    "]\n",
    "\n",
    "target_col = 'Year'      # Год выпуска игры\n",
    "\n",
    "cols = num_cols + cat_cols + [target_col]"
   ]
  },
  {
   "cell_type": "code",
   "execution_count": null,
   "metadata": {},
   "outputs": [
    {
     "data": {
      "text/html": [
       "<div>\n",
       "<style scoped>\n",
       "    .dataframe tbody tr th:only-of-type {\n",
       "        vertical-align: middle;\n",
       "    }\n",
       "\n",
       "    .dataframe tbody tr th {\n",
       "        vertical-align: top;\n",
       "    }\n",
       "\n",
       "    .dataframe thead th {\n",
       "        text-align: right;\n",
       "    }\n",
       "</style>\n",
       "<table border=\"1\" class=\"dataframe\">\n",
       "  <thead>\n",
       "    <tr style=\"text-align: right;\">\n",
       "      <th></th>\n",
       "      <th>Rank</th>\n",
       "      <th>Europe</th>\n",
       "      <th>Japan</th>\n",
       "      <th>Rest of World</th>\n",
       "      <th>North America</th>\n",
       "      <th>Review</th>\n",
       "      <th>Genre</th>\n",
       "      <th>Year</th>\n",
       "    </tr>\n",
       "  </thead>\n",
       "  <tbody>\n",
       "    <tr>\n",
       "      <th>0</th>\n",
       "      <td>1</td>\n",
       "      <td>28.39</td>\n",
       "      <td>3.77</td>\n",
       "      <td>8.54</td>\n",
       "      <td>40.43</td>\n",
       "      <td>76.28</td>\n",
       "      <td>Sports</td>\n",
       "      <td>2006</td>\n",
       "    </tr>\n",
       "    <tr>\n",
       "      <th>1</th>\n",
       "      <td>2</td>\n",
       "      <td>3.58</td>\n",
       "      <td>6.81</td>\n",
       "      <td>0.77</td>\n",
       "      <td>29.08</td>\n",
       "      <td>91.00</td>\n",
       "      <td>Platform</td>\n",
       "      <td>1985</td>\n",
       "    </tr>\n",
       "    <tr>\n",
       "      <th>2</th>\n",
       "      <td>3</td>\n",
       "      <td>12.22</td>\n",
       "      <td>3.63</td>\n",
       "      <td>3.21</td>\n",
       "      <td>14.50</td>\n",
       "      <td>82.07</td>\n",
       "      <td>Racing</td>\n",
       "      <td>2008</td>\n",
       "    </tr>\n",
       "    <tr>\n",
       "      <th>3</th>\n",
       "      <td>4</td>\n",
       "      <td>10.51</td>\n",
       "      <td>3.18</td>\n",
       "      <td>3.01</td>\n",
       "      <td>14.82</td>\n",
       "      <td>82.65</td>\n",
       "      <td>Sports</td>\n",
       "      <td>2009</td>\n",
       "    </tr>\n",
       "    <tr>\n",
       "      <th>4</th>\n",
       "      <td>5</td>\n",
       "      <td>2.26</td>\n",
       "      <td>4.22</td>\n",
       "      <td>0.58</td>\n",
       "      <td>23.20</td>\n",
       "      <td>88.00</td>\n",
       "      <td>Puzzle</td>\n",
       "      <td>1989</td>\n",
       "    </tr>\n",
       "  </tbody>\n",
       "</table>\n",
       "</div>"
      ],
      "text/plain": [
       "   Rank  Europe  Japan  Rest of World  North America  Review     Genre  Year\n",
       "0     1   28.39   3.77           8.54          40.43   76.28    Sports  2006\n",
       "1     2    3.58   6.81           0.77          29.08   91.00  Platform  1985\n",
       "2     3   12.22   3.63           3.21          14.50   82.07    Racing  2008\n",
       "3     4   10.51   3.18           3.01          14.82   82.65    Sports  2009\n",
       "4     5    2.26   4.22           0.58          23.20   88.00    Puzzle  1989"
      ]
     },
     "metadata": {},
     "output_type": "display_data"
    }
   ],
   "source": [
    "data = data[cols]\n",
    "data.head()"
   ]
  },
  {
   "cell_type": "markdown",
   "metadata": {},
   "source": [
    "### Обучим на неподготовленных данных"
   ]
  },
  {
   "cell_type": "code",
   "execution_count": null,
   "metadata": {},
   "outputs": [],
   "source": [
    "from sklearn.model_selection import train_test_split\n",
    "\n",
    "X_train, X_test, y_train, y_test = train_test_split(data[num_cols].values, data[target_col].values, test_size=0.2)"
   ]
  },
  {
   "cell_type": "code",
   "execution_count": null,
   "metadata": {},
   "outputs": [],
   "source": [
    "from sklearn.preprocessing import MinMaxScaler\n",
    "\n",
    "pca = MinMaxScaler()\n",
    "pca.fit(X_train)\n",
    "X_train = pca.transform(X_train)"
   ]
  },
  {
   "cell_type": "code",
   "execution_count": null,
   "metadata": {},
   "outputs": [],
   "source": [
    "from sklearn.dummy import DummyClassifier"
   ]
  },
  {
   "cell_type": "markdown",
   "metadata": {},
   "source": [
    "### Константный предиктор"
   ]
  },
  {
   "cell_type": "code",
   "execution_count": null,
   "metadata": {},
   "outputs": [
    {
     "name": "stdout",
     "output_type": "stream",
     "text": [
      "R^2: 0.0\n",
      "MSE: 86.76666666666667\n"
     ]
    }
   ],
   "source": [
    "dr = DummyClassifier()\n",
    "dr.fit(X_train, y_train)\n",
    "print_metrics(dr.predict(X_test), y_test)"
   ]
  },
  {
   "cell_type": "markdown",
   "metadata": {},
   "source": [
    "### Логистическая регрессия"
   ]
  },
  {
   "cell_type": "code",
   "execution_count": null,
   "metadata": {},
   "outputs": [
    {
     "name": "stdout",
     "output_type": "stream",
     "text": [
      "R^2: -0.6468703194120311\n",
      "MSE: 52.53333333333333\n"
     ]
    }
   ],
   "source": [
    "lr = LogisticRegression()\n",
    "lr.fit(X_train, y_train)\n",
    "\n",
    "print_metrics(lr.predict(X_test), y_test)"
   ]
  },
  {
   "cell_type": "code",
   "execution_count": null,
   "metadata": {},
   "outputs": [
    {
     "name": "stdout",
     "output_type": "stream",
     "text": [
      "R^2: -0.9519304661207832\n",
      "MSE: 61.38333333333333\n"
     ]
    }
   ],
   "source": [
    "lr = MyLogisticRegression()\n",
    "lr.fit(X_train, y_train - np.min(data['Year']))\n",
    "\n",
    "print_metrics(lr.predict(X_test), y_test- np.min(data['Year']))"
   ]
  },
  {
   "cell_type": "code",
   "execution_count": null,
   "metadata": {},
   "outputs": [
    {
     "data": {
      "text/plain": [
       "array([[<Axes: title={'center': 'Rank'}>,\n",
       "        <Axes: title={'center': 'Europe'}>,\n",
       "        <Axes: title={'center': 'Japan'}>],\n",
       "       [<Axes: title={'center': 'Rest of World'}>,\n",
       "        <Axes: title={'center': 'North America'}>,\n",
       "        <Axes: title={'center': 'Review'}>],\n",
       "       [<Axes: title={'center': 'Year'}>, <Axes: >, <Axes: >]],\n",
       "      dtype=object)"
      ]
     },
     "metadata": {},
     "output_type": "display_data"
    },
    {
     "data": {
      "image/png": "[encoded data removed]",
      "text/plain": [
       "<Figure size 1400x1000 with 9 Axes>"
      ]
     },
     "metadata": {},
     "output_type": "display_data"
    }
   ],
   "source": [
    "data.hist(column=num_cols+cat_cols+[target_col], figsize=(14, 10))"
   ]
  },
  {
   "cell_type": "markdown",
   "metadata": {},
   "source": [
    "Добавляю в датафрейм колонки для всех категориальных столбцов"
   ]
  },
  {
   "cell_type": "code",
   "execution_count": null,
   "metadata": {},
   "outputs": [
    {
     "data": {
      "text/plain": [
       "['Action',\n",
       " 'Adventure',\n",
       " 'Fighting',\n",
       " 'Misc',\n",
       " 'Platform',\n",
       " 'Puzzle',\n",
       " 'Racing',\n",
       " 'Role-Playing',\n",
       " 'Shooter',\n",
       " 'Simulation',\n",
       " 'Sports',\n",
       " 'Strategy']"
      ]
     },
     "metadata": {},
     "output_type": "display_data"
    }
   ],
   "source": [
    "cat_genre = data['Genre']\n",
    "cat_genre = pd.get_dummies(cat_genre)\n",
    "data = data.drop(columns=['Genre'])\n",
    "cat_cols.remove('Genre')\n",
    "\n",
    "data = data.join(cat_genre)\n",
    "cat_cols.extend(list(cat_genre.columns))\n",
    "cat_cols"
   ]
  },
  {
   "cell_type": "markdown",
   "metadata": {},
   "source": [
    "### Обучим на подготовленных данных"
   ]
  },
  {
   "cell_type": "code",
   "execution_count": null,
   "metadata": {},
   "outputs": [],
   "source": [
    "from sklearn.model_selection import train_test_split\n",
    "\n",
    "X_train, X_test, y_train, y_test = train_test_split(data[num_cols + cat_cols].values, data[target_col].values, test_size=0.2)"
   ]
  },
  {
   "cell_type": "code",
   "execution_count": null,
   "metadata": {},
   "outputs": [],
   "source": [
    "from sklearn.preprocessing import MinMaxScaler\n",
    "\n",
    "pca = MinMaxScaler()\n",
    "pca.fit(X_train)\n",
    "X_train = pca.transform(X_train)"
   ]
  },
  {
   "cell_type": "markdown",
   "metadata": {},
   "source": [
    "### Константный предиктор"
   ]
  },
  {
   "cell_type": "code",
   "execution_count": null,
   "metadata": {},
   "outputs": [
    {
     "name": "stdout",
     "output_type": "stream",
     "text": [
      "R^2: 0.0\n",
      "MSE: 59.21666666666667\n"
     ]
    }
   ],
   "source": [
    "dr = DummyClassifier()\n",
    "dr.fit(X_train, y_train)\n",
    "\n",
    "print_metrics(dr.predict(X_test), y_test)"
   ]
  },
  {
   "cell_type": "markdown",
   "metadata": {},
   "source": [
    "### Логистическая регрессия"
   ]
  },
  {
   "cell_type": "code",
   "execution_count": null,
   "metadata": {},
   "outputs": [
    {
     "name": "stdout",
     "output_type": "stream",
     "text": [
      "R^2: 0.7437520757223512\n",
      "MSE: 13.716666666666667\n"
     ]
    }
   ],
   "source": [
    "lr = LogisticRegression()\n",
    "lr.fit(X_train, y_train)\n",
    "\n",
    "print_metrics(lr.predict(X_test), y_test)"
   ]
  },
  {
   "cell_type": "code",
   "execution_count": null,
   "metadata": {},
   "outputs": [
    {
     "name": "stdout",
     "output_type": "stream",
     "text": [
      "R^2: 0.6242977700666965\n",
      "MSE: 21.233333333333334\n"
     ]
    }
   ],
   "source": [
    "lr = MyLogisticRegression()\n",
    "lr.fit(X_train, y_train - np.min(data['Year']))\n",
    "\n",
    "print_metrics(lr.predict(X_test), y_test - np.min(data['Year']))"
   ]
  }
 ],
 "metadata": {
  "language_info": {
   "name": "python"
  }
 },
 "nbformat": 4,
 "nbformat_minor": 2
}
